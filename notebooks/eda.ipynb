{
 "cells": [
  {
   "cell_type": "code",
   "execution_count": 1,
   "metadata": {},
   "outputs": [],
   "source": [
    "import pandas as pd\n",
    "import seaborn as sns\n",
    "import matplotlib.pyplot as plt"
   ]
  },
  {
   "cell_type": "markdown",
   "metadata": {},
   "source": [
    "## 1. Load the Data"
   ]
  },
  {
   "cell_type": "markdown",
   "metadata": {},
   "source": [
    "### 1.1. Explore the Data\n",
    "- Data records for general aviation and commercial air carrier incidents since 1978, collected from FAA's Accident and Incident Data Systems\n",
    "- 100000 data points\n",
    "- general deatils (date, aircraft, operator, location)\n",
    "- flight and pilot details (aircraft damage, injuries, pic cert type, pic total hrs, pic make-model hrs)"
   ]
  },
  {
   "cell_type": "code",
   "execution_count": null,
   "metadata": {},
   "outputs": [
    {
     "name": "stderr",
     "output_type": "stream",
     "text": [
      "/tmp/ipykernel_2342/1134462751.py:1: DtypeWarning: Columns (12,14) have mixed types. Specify dtype option on import or set low_memory=False.\n",
      "  df_faa=pd.read_csv('../data/faa_incidents_data.csv')\n"
     ]
    }
   ],
   "source": [
    "df=pd.read_csv('../data/faa_incidents_data.csv')"
   ]
  },
  {
   "cell_type": "code",
   "execution_count": null,
   "metadata": {},
   "outputs": [
    {
     "data": {
      "text/html": [
       "<div>\n",
       "<style scoped>\n",
       "    .dataframe tbody tr th:only-of-type {\n",
       "        vertical-align: middle;\n",
       "    }\n",
       "\n",
       "    .dataframe tbody tr th {\n",
       "        vertical-align: top;\n",
       "    }\n",
       "\n",
       "    .dataframe thead th {\n",
       "        text-align: right;\n",
       "    }\n",
       "</style>\n",
       "<table border=\"1\" class=\"dataframe\">\n",
       "  <thead>\n",
       "    <tr style=\"text-align: right;\">\n",
       "      <th></th>\n",
       "      <th>AIDS Report Number</th>\n",
       "      <th>Local Event Date</th>\n",
       "      <th>Event City</th>\n",
       "      <th>Event State</th>\n",
       "      <th>Event Airport</th>\n",
       "      <th>Event Type</th>\n",
       "      <th>Aircraft Damage</th>\n",
       "      <th>Flight Phase</th>\n",
       "      <th>Aircraft Make</th>\n",
       "      <th>Aircraft Model</th>\n",
       "      <th>...</th>\n",
       "      <th>Total Injuries</th>\n",
       "      <th>Aircraft Engine Make</th>\n",
       "      <th>Aircraft Engine Model</th>\n",
       "      <th>Engine Group Code</th>\n",
       "      <th>Nbr of Engines</th>\n",
       "      <th>PIC Certificate Type</th>\n",
       "      <th>PIC Flight Time Total Hrs</th>\n",
       "      <th>PIC Flight Time Total Make-Model</th>\n",
       "      <th></th>\n",
       "      <th>.1</th>\n",
       "    </tr>\n",
       "  </thead>\n",
       "  <tbody>\n",
       "    <tr>\n",
       "      <th>0</th>\n",
       "      <td>19780101000019I</td>\n",
       "      <td>01-JAN-78</td>\n",
       "      <td>WAHPETON</td>\n",
       "      <td>ND</td>\n",
       "      <td>BRECKENRIDGE</td>\n",
       "      <td>INCIDENT</td>\n",
       "      <td>MINOR</td>\n",
       "      <td>ROLL-OUT (FIXED WING)</td>\n",
       "      <td>CESSNA</td>\n",
       "      <td>182</td>\n",
       "      <td>...</td>\n",
       "      <td>0</td>\n",
       "      <td>NaN</td>\n",
       "      <td>NaN</td>\n",
       "      <td>NaN</td>\n",
       "      <td>1.0</td>\n",
       "      <td>PRIVATE PILOT</td>\n",
       "      <td>245.0</td>\n",
       "      <td>136.0</td>\n",
       "      <td>0.0</td>\n",
       "      <td>0.0</td>\n",
       "    </tr>\n",
       "    <tr>\n",
       "      <th>1</th>\n",
       "      <td>19780101000029I</td>\n",
       "      <td>01-JAN-78</td>\n",
       "      <td>FAIRBANKS</td>\n",
       "      <td>AK</td>\n",
       "      <td>FAIRBANKS INTL</td>\n",
       "      <td>INCIDENT</td>\n",
       "      <td>MINOR</td>\n",
       "      <td>ROLL-OUT (FIXED WING)</td>\n",
       "      <td>PIPER</td>\n",
       "      <td>PA18</td>\n",
       "      <td>...</td>\n",
       "      <td>0</td>\n",
       "      <td>NaN</td>\n",
       "      <td>NaN</td>\n",
       "      <td>NaN</td>\n",
       "      <td>1.0</td>\n",
       "      <td>STUDENT</td>\n",
       "      <td>200.0</td>\n",
       "      <td>2.0</td>\n",
       "      <td>0.0</td>\n",
       "      <td>0.0</td>\n",
       "    </tr>\n",
       "    <tr>\n",
       "      <th>2</th>\n",
       "      <td>19780101000039I</td>\n",
       "      <td>01-JAN-78</td>\n",
       "      <td>BRUNSWICK</td>\n",
       "      <td>GA</td>\n",
       "      <td>JEKYLL ISLAND</td>\n",
       "      <td>INCIDENT</td>\n",
       "      <td>NaN</td>\n",
       "      <td>NORMAL CRUISE</td>\n",
       "      <td>BEECH</td>\n",
       "      <td>35</td>\n",
       "      <td>...</td>\n",
       "      <td>0</td>\n",
       "      <td>NaN</td>\n",
       "      <td>NaN</td>\n",
       "      <td>NaN</td>\n",
       "      <td>1.0</td>\n",
       "      <td>PRIVATE PILOT</td>\n",
       "      <td>NaN</td>\n",
       "      <td>0.0</td>\n",
       "      <td>0.0</td>\n",
       "      <td>0.0</td>\n",
       "    </tr>\n",
       "    <tr>\n",
       "      <th>3</th>\n",
       "      <td>19780101000049I</td>\n",
       "      <td>01-JAN-78</td>\n",
       "      <td>CARLSBAD</td>\n",
       "      <td>CA</td>\n",
       "      <td>MC CLELLAN-PALOMAR</td>\n",
       "      <td>INCIDENT</td>\n",
       "      <td>MINOR</td>\n",
       "      <td>LEVEL OFF TOUCHDOWN</td>\n",
       "      <td>CESSNA</td>\n",
       "      <td>310</td>\n",
       "      <td>...</td>\n",
       "      <td>0</td>\n",
       "      <td>NaN</td>\n",
       "      <td>NaN</td>\n",
       "      <td>NaN</td>\n",
       "      <td>2.0</td>\n",
       "      <td>COMMERCIAL PILOT FLIGHT INSTRUCTOR</td>\n",
       "      <td>2000.0</td>\n",
       "      <td>400.0</td>\n",
       "      <td>0.0</td>\n",
       "      <td>0.0</td>\n",
       "    </tr>\n",
       "    <tr>\n",
       "      <th>4</th>\n",
       "      <td>19780101000059I</td>\n",
       "      <td>01-JAN-78</td>\n",
       "      <td>TROUTDALE</td>\n",
       "      <td>OR</td>\n",
       "      <td>TROUTDALE MUNI</td>\n",
       "      <td>INCIDENT</td>\n",
       "      <td>MINOR</td>\n",
       "      <td>GROUND TAXI, OTHER AIRPLANE</td>\n",
       "      <td>CESSNA</td>\n",
       "      <td>172</td>\n",
       "      <td>...</td>\n",
       "      <td>0</td>\n",
       "      <td>NaN</td>\n",
       "      <td>NaN</td>\n",
       "      <td>NaN</td>\n",
       "      <td>1.0</td>\n",
       "      <td>COMMERCIAL PILOT</td>\n",
       "      <td>300.0</td>\n",
       "      <td>130.0</td>\n",
       "      <td>0.0</td>\n",
       "      <td>0.0</td>\n",
       "    </tr>\n",
       "  </tbody>\n",
       "</table>\n",
       "<p>5 rows × 27 columns</p>\n",
       "</div>"
      ],
      "text/plain": [
       "  AIDS Report Number Local Event Date Event City Event State  \\\n",
       "0    19780101000019I        01-JAN-78   WAHPETON          ND   \n",
       "1    19780101000029I        01-JAN-78  FAIRBANKS          AK   \n",
       "2    19780101000039I        01-JAN-78  BRUNSWICK          GA   \n",
       "3    19780101000049I        01-JAN-78   CARLSBAD          CA   \n",
       "4    19780101000059I        01-JAN-78  TROUTDALE          OR   \n",
       "\n",
       "        Event Airport Event Type Aircraft Damage                 Flight Phase  \\\n",
       "0        BRECKENRIDGE   INCIDENT           MINOR        ROLL-OUT (FIXED WING)   \n",
       "1      FAIRBANKS INTL   INCIDENT           MINOR        ROLL-OUT (FIXED WING)   \n",
       "2       JEKYLL ISLAND   INCIDENT             NaN                NORMAL CRUISE   \n",
       "3  MC CLELLAN-PALOMAR   INCIDENT           MINOR          LEVEL OFF TOUCHDOWN   \n",
       "4      TROUTDALE MUNI   INCIDENT           MINOR  GROUND TAXI, OTHER AIRPLANE   \n",
       "\n",
       "  Aircraft Make Aircraft Model  ... Total Injuries Aircraft Engine Make  \\\n",
       "0        CESSNA            182  ...              0                  NaN   \n",
       "1         PIPER           PA18  ...              0                  NaN   \n",
       "2         BEECH             35  ...              0                  NaN   \n",
       "3        CESSNA            310  ...              0                  NaN   \n",
       "4        CESSNA            172  ...              0                  NaN   \n",
       "\n",
       "  Aircraft Engine Model Engine Group Code Nbr of Engines  \\\n",
       "0                   NaN               NaN            1.0   \n",
       "1                   NaN               NaN            1.0   \n",
       "2                   NaN               NaN            1.0   \n",
       "3                   NaN               NaN            2.0   \n",
       "4                   NaN               NaN            1.0   \n",
       "\n",
       "                 PIC Certificate Type  PIC Flight Time Total Hrs  \\\n",
       "0                       PRIVATE PILOT                      245.0   \n",
       "1                             STUDENT                      200.0   \n",
       "2                       PRIVATE PILOT                        NaN   \n",
       "3  COMMERCIAL PILOT FLIGHT INSTRUCTOR                     2000.0   \n",
       "4                    COMMERCIAL PILOT                      300.0   \n",
       "\n",
       "   PIC Flight Time Total Make-Model        .1  \n",
       "0                             136.0  0.0  0.0  \n",
       "1                               2.0  0.0  0.0  \n",
       "2                               0.0  0.0  0.0  \n",
       "3                             400.0  0.0  0.0  \n",
       "4                             130.0  0.0  0.0  \n",
       "\n",
       "[5 rows x 27 columns]"
      ]
     },
     "execution_count": 9,
     "metadata": {},
     "output_type": "execute_result"
    }
   ],
   "source": [
    "df.head()"
   ]
  },
  {
   "cell_type": "code",
   "execution_count": null,
   "metadata": {},
   "outputs": [
    {
     "name": "stdout",
     "output_type": "stream",
     "text": [
      "<class 'pandas.core.frame.DataFrame'>\n",
      "RangeIndex: 100000 entries, 0 to 99999\n",
      "Data columns (total 27 columns):\n",
      " #   Column                            Non-Null Count   Dtype  \n",
      "---  ------                            --------------   -----  \n",
      " 0   AIDS Report Number                100000 non-null  object \n",
      " 1   Local Event Date                  100000 non-null  object \n",
      " 2   Event City                        91364 non-null   object \n",
      " 3   Event State                       99234 non-null   object \n",
      " 4   Event Airport                     81398 non-null   object \n",
      " 5   Event Type                        100000 non-null  object \n",
      " 6   Aircraft Damage                   71199 non-null   object \n",
      " 7   Flight Phase                      99758 non-null   object \n",
      " 8   Aircraft Make                     97441 non-null   object \n",
      " 9   Aircraft Model                    96928 non-null   object \n",
      " 10  Aircraft Series                   96927 non-null   object \n",
      " 11  Operator                          29974 non-null   object \n",
      " 12  Primary Flight Type               89906 non-null   object \n",
      " 13  Flight Conduct Code               99858 non-null   object \n",
      " 14  Flight Plan Filed Code            87088 non-null   object \n",
      " 15  Aircraft Registration Nbr         100000 non-null  object \n",
      " 16  Total Fatalities                  100000 non-null  int64  \n",
      " 17  Total Injuries                    100000 non-null  int64  \n",
      " 18  Aircraft Engine Make              36395 non-null   object \n",
      " 19  Aircraft Engine Model             36399 non-null   object \n",
      " 20  Engine Group Code                 30102 non-null   object \n",
      " 21  Nbr of Engines                    93004 non-null   float64\n",
      " 22  PIC Certificate Type              91474 non-null   object \n",
      " 23  PIC Flight Time Total Hrs         79807 non-null   float64\n",
      " 24  PIC Flight Time Total Make-Model  85053 non-null   float64\n",
      " 25                                    83803 non-null   float64\n",
      " 26   .1                               60737 non-null   float64\n",
      "dtypes: float64(5), int64(2), object(20)\n",
      "memory usage: 20.6+ MB\n"
     ]
    }
   ],
   "source": [
    "df.info()"
   ]
  },
  {
   "cell_type": "code",
   "execution_count": null,
   "metadata": {},
   "outputs": [
    {
     "name": "stdout",
     "output_type": "stream",
     "text": [
      "['AIDS Report Number' 'Local Event Date' 'Event City' 'Event State'\n",
      " 'Event Airport' 'Event Type' 'Aircraft Damage' 'Flight Phase'\n",
      " 'Aircraft Make' 'Aircraft Model' 'Aircraft Series' 'Operator'\n",
      " 'Primary Flight Type' 'Flight Conduct Code' 'Flight Plan Filed Code'\n",
      " 'Aircraft Registration Nbr' 'Total Fatalities' 'Total Injuries'\n",
      " 'Aircraft Engine Make' 'Aircraft Engine Model' 'Engine Group Code'\n",
      " 'Nbr of Engines' 'PIC Certificate Type' 'PIC Flight Time Total Hrs'\n",
      " 'PIC Flight Time Total Make-Model' ' ' ' .1']\n"
     ]
    }
   ],
   "source": [
    "print(df.columns.values)"
   ]
  },
  {
   "cell_type": "code",
   "execution_count": 83,
   "metadata": {},
   "outputs": [
    {
     "data": {
      "text/plain": [
       "0    2691Q\n",
       "1    4073E\n",
       "2    7929D\n",
       "3    2250F\n",
       "4    738FD\n",
       "5    743PA\n",
       "Name: Aircraft Registration Nbr, dtype: object"
      ]
     },
     "execution_count": 83,
     "metadata": {},
     "output_type": "execute_result"
    }
   ],
   "source": [
    "df_faa['Aircraft Registration Nbr'].head(6)"
   ]
  },
  {
   "cell_type": "code",
   "execution_count": 80,
   "metadata": {},
   "outputs": [
    {
     "name": "stdout",
     "output_type": "stream",
     "text": [
      "  AIDS Report Number Local Event Date Event City Event State   Event Airport  \\\n",
      "0    19780101000019I        01-JAN-78   WAHPETON          ND    BRECKENRIDGE   \n",
      "1    19780101000029I        01-JAN-78  FAIRBANKS          AK  FAIRBANKS INTL   \n",
      "2    19780101000039I        01-JAN-78  BRUNSWICK          GA   JEKYLL ISLAND   \n",
      "\n",
      "  Event Type Aircraft Damage           Flight Phase Aircraft Make  \\\n",
      "0   INCIDENT           MINOR  ROLL-OUT (FIXED WING)        CESSNA   \n",
      "1   INCIDENT           MINOR  ROLL-OUT (FIXED WING)         PIPER   \n",
      "2   INCIDENT             NaN          NORMAL CRUISE         BEECH   \n",
      "\n",
      "  Aircraft Model  ... Total Injuries Aircraft Engine Make  \\\n",
      "0            182  ...              0                  NaN   \n",
      "1           PA18  ...              0                  NaN   \n",
      "2             35  ...              0                  NaN   \n",
      "\n",
      "  Aircraft Engine Model Engine Group Code Nbr of Engines PIC Certificate Type  \\\n",
      "0                   NaN               NaN            1.0        PRIVATE PILOT   \n",
      "1                   NaN               NaN            1.0              STUDENT   \n",
      "2                   NaN               NaN            1.0        PRIVATE PILOT   \n",
      "\n",
      "   PIC Flight Time Total Hrs  PIC Flight Time Total Make-Model        .1  \n",
      "0                      245.0                             136.0  0.0  0.0  \n",
      "1                      200.0                               2.0  0.0  0.0  \n",
      "2                        NaN                               0.0  0.0  0.0  \n",
      "\n",
      "[3 rows x 27 columns]\n"
     ]
    }
   ],
   "source": [
    "print(df_faa.loc[df_faa['Aircraft Registration Nbr'].isin(['2691Q','4073E','7929D'])])"
   ]
  },
  {
   "cell_type": "markdown",
   "metadata": {},
   "source": [
    "### 1.3. Data Wrangling"
   ]
  },
  {
   "cell_type": "code",
   "execution_count": null,
   "metadata": {},
   "outputs": [],
   "source": [
    "# Drop unneeded columns\n",
    "df=df.drop(columns=['AIDS Report Number', 'Aircraft Series', 'Operator', 'Primary Flight Type', 'Flight Conduct Code', \n",
    "        'Flight Plan Filed Code', 'Aircraft Engine Make', 'Aircraft Engine Model', 'Engine Group Code', ' ', ' .1'])\n",
    "\n",
    "df.info()"
   ]
  },
  {
   "cell_type": "code",
   "execution_count": 77,
   "metadata": {},
   "outputs": [
    {
     "data": {
      "text/plain": [
       "Investigation Type                       0\n",
       "Event Date                               0\n",
       "Location                                 0\n",
       "Country                                  0\n",
       "Airport Code                             0\n",
       "Injury Severity                          0\n",
       "Aircraft Damage_x                        0\n",
       "Aircraft Category                        0\n",
       "Registration Number                      0\n",
       "Make                                     0\n",
       "Model                                    0\n",
       "Number of Engines                        0\n",
       "Air Carrier                              0\n",
       "Total Fatal Injuries                     0\n",
       "Total Serious Injuries                   0\n",
       "Total Minor Injuries                     0\n",
       "Total Uninjured                          0\n",
       "Weather Condition                        0\n",
       "Broad Phase of Flight                    0\n",
       "Local Event Date                    150959\n",
       "Event City                          150959\n",
       "Event State                         150959\n",
       "Event Airport                       150959\n",
       "Event Type                          150959\n",
       "Aircraft Damage_y                   150959\n",
       "Flight Phase                        150959\n",
       "Aircraft Make                       150959\n",
       "Aircraft Model                      150959\n",
       "Total Fatalities                    150959\n",
       "Total Injuries                      150959\n",
       "Nbr of Engines                      150959\n",
       "PIC Certificate Type                150959\n",
       "PIC Flight Time Total Hrs           150959\n",
       "PIC Flight Time Total Make-Model    150959\n",
       "dtype: int64"
      ]
     },
     "execution_count": 77,
     "metadata": {},
     "output_type": "execute_result"
    }
   ],
   "source": [
    "df.isnull().sum(axis=0)"
   ]
  }
 ],
 "metadata": {
  "kernelspec": {
   "display_name": "Python 3",
   "language": "python",
   "name": "python3"
  },
  "language_info": {
   "codemirror_mode": {
    "name": "ipython",
    "version": 3
   },
   "file_extension": ".py",
   "mimetype": "text/x-python",
   "name": "python",
   "nbconvert_exporter": "python",
   "pygments_lexer": "ipython3",
   "version": "3.12.1"
  }
 },
 "nbformat": 4,
 "nbformat_minor": 2
}
